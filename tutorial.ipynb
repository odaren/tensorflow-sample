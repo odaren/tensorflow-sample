{
  "nbformat": 4,
  "nbformat_minor": 0,
  "metadata": {
    "colab": {
      "name": "tutorial.ipynb",
      "provenance": [],
      "authorship_tag": "ABX9TyOzIxmnIql6UThM8pAS43Sd",
      "include_colab_link": true
    },
    "kernelspec": {
      "name": "python3",
      "display_name": "Python 3"
    },
    "language_info": {
      "name": "python"
    }
  },
  "cells": [
    {
      "cell_type": "markdown",
      "metadata": {
        "id": "view-in-github",
        "colab_type": "text"
      },
      "source": [
        "<a href=\"https://colab.research.google.com/github/odaren/tensorflow-sample/blob/main/tutorial.ipynb\" target=\"_parent\"><img src=\"https://colab.research.google.com/assets/colab-badge.svg\" alt=\"Open In Colab\"/></a>"
      ]
    },
    {
      "cell_type": "code",
      "execution_count": 1,
      "metadata": {
        "id": "hgXNMXCU40Yj"
      },
      "outputs": [],
      "source": [
        "import tensorflow as tf"
      ]
    },
    {
      "cell_type": "code",
      "source": [
        "# MNISTデータセットをロードして準備します。サンプルを整数から浮動小数点数に変換します。\n",
        "mnist = tf.keras.datasets.mnist\n",
        "\n",
        "(x_train, y_train), (x_test, y_test) = mnist.load_data()\n",
        "x_train, x_test = x_train / 255.0, x_test / 255.0"
      ],
      "metadata": {
        "colab": {
          "base_uri": "https://localhost:8080/"
        },
        "id": "b0dc8NUK6Pm7",
        "outputId": "321b6d3c-358f-459e-8c9d-ffae963a1642"
      },
      "execution_count": 2,
      "outputs": [
        {
          "output_type": "stream",
          "name": "stdout",
          "text": [
            "Downloading data from https://storage.googleapis.com/tensorflow/tf-keras-datasets/mnist.npz\n",
            "11493376/11490434 [==============================] - 0s 0us/step\n",
            "11501568/11490434 [==============================] - 0s 0us/step\n"
          ]
        }
      ]
    },
    {
      "cell_type": "code",
      "source": [
        "# 層を積み重ねてtf.keras.Sequentialモデルを構築します。訓練のためにオプティマイザと損失関数を選びます。\n",
        "model = tf.keras.models.Sequential([\n",
        "  tf.keras.layers.Flatten(input_shape=(28, 28)),\n",
        "  tf.keras.layers.Dense(128, activation='relu'),\n",
        "  tf.keras.layers.Dropout(0.2),\n",
        "  tf.keras.layers.Dense(10)\n",
        "])"
      ],
      "metadata": {
        "id": "pthWj0sV6xCo"
      },
      "execution_count": 3,
      "outputs": []
    },
    {
      "cell_type": "code",
      "source": [
        "# モデルはそれぞれの標本について、クラスごとに\"ロジット\"や\"対数オッズ比\"と呼ばれるスコアを算出します。\n",
        "predictions = model(x_train[:1]).numpy()\n",
        "predictions"
      ],
      "metadata": {
        "colab": {
          "base_uri": "https://localhost:8080/"
        },
        "id": "1jAzlKQ764oc",
        "outputId": "18e6aabf-dfbe-4a19-96c3-40b2f7c39714"
      },
      "execution_count": 4,
      "outputs": [
        {
          "output_type": "execute_result",
          "data": {
            "text/plain": [
              "array([[ 0.14574765, -0.55691135, -0.6422523 ,  0.8041989 ,  0.3464385 ,\n",
              "         0.5816304 ,  1.0275643 , -0.03857642, -0.7461361 , -0.09347074]],\n",
              "      dtype=float32)"
            ]
          },
          "metadata": {},
          "execution_count": 4
        }
      ]
    },
    {
      "cell_type": "code",
      "source": [
        "# tf.nn.softmax 関数はクラスごとにこれらのロジットを \"確率\" に変換します。\n",
        "tf.nn.softmax(predictions).numpy()"
      ],
      "metadata": {
        "colab": {
          "base_uri": "https://localhost:8080/"
        },
        "id": "JGVhiX1f7XE-",
        "outputId": "2676dc40-5d90-430e-8860-e6ff34245099"
      },
      "execution_count": 5,
      "outputs": [
        {
          "output_type": "execute_result",
          "data": {
            "text/plain": [
              "array([[0.09013502, 0.04464087, 0.04098921, 0.17412265, 0.11016724,\n",
              "        0.13937825, 0.2177016 , 0.07496225, 0.0369448 , 0.07095815]],\n",
              "      dtype=float32)"
            ]
          },
          "metadata": {},
          "execution_count": 5
        }
      ]
    },
    {
      "cell_type": "code",
      "source": [
        "# losses.SparseCategoricalCrossentropy 損失関数は、ロジットと True の インデックスに関するベクトルを入力にとり、それぞれの標本についてクラスごとに損失のスカラーを返します。\n",
        "loss_fn = tf.keras.losses.SparseCategoricalCrossentropy(from_logits=True)"
      ],
      "metadata": {
        "id": "lyG0pesn7jFu"
      },
      "execution_count": 6,
      "outputs": []
    },
    {
      "cell_type": "code",
      "source": [
        "# この訓練されていないモデルはランダムに近い確率 (それぞれのクラスについて 1/10) を出力します、最初の損失は -tf.log(1/10) ~= 2.3 に近い値になるはずです。\n",
        "loss_fn(y_train[:1], predictions).numpy()"
      ],
      "metadata": {
        "colab": {
          "base_uri": "https://localhost:8080/"
        },
        "id": "JTuS9eLL8KdM",
        "outputId": "32af2d22-ac82-4f0c-b4a7-e4c3d183b27d"
      },
      "execution_count": 7,
      "outputs": [
        {
          "output_type": "execute_result",
          "data": {
            "text/plain": [
              "1.9705639"
            ]
          },
          "metadata": {},
          "execution_count": 7
        }
      ]
    },
    {
      "cell_type": "code",
      "source": [
        "model.compile(optimizer='adam',\n",
        "              loss=loss_fn,\n",
        "              metrics=['accuracy'])"
      ],
      "metadata": {
        "id": "poXxd_Bw8Tbi"
      },
      "execution_count": 8,
      "outputs": []
    },
    {
      "cell_type": "code",
      "source": [
        "# Model.fit メソッドは損失を最小化するようにモデルのパラメータを調整します。\n",
        "model.fit(x_train, y_train, epochs=5)"
      ],
      "metadata": {
        "colab": {
          "base_uri": "https://localhost:8080/"
        },
        "id": "vEpDM-PS8XmA",
        "outputId": "f7f8c103-30ea-4cad-ab47-fd0b8d9682a2"
      },
      "execution_count": 9,
      "outputs": [
        {
          "output_type": "stream",
          "name": "stdout",
          "text": [
            "Epoch 1/5\n",
            "1875/1875 [==============================] - 6s 3ms/step - loss: 0.2972 - accuracy: 0.9125\n",
            "Epoch 2/5\n",
            "1875/1875 [==============================] - 4s 2ms/step - loss: 0.1466 - accuracy: 0.9570\n",
            "Epoch 3/5\n",
            "1875/1875 [==============================] - 5s 3ms/step - loss: 0.1084 - accuracy: 0.9672\n",
            "Epoch 4/5\n",
            "1875/1875 [==============================] - 6s 3ms/step - loss: 0.0861 - accuracy: 0.9738\n",
            "Epoch 5/5\n",
            "1875/1875 [==============================] - 5s 3ms/step - loss: 0.0757 - accuracy: 0.9763\n"
          ]
        },
        {
          "output_type": "execute_result",
          "data": {
            "text/plain": [
              "<keras.callbacks.History at 0x7f04182d1d10>"
            ]
          },
          "metadata": {},
          "execution_count": 9
        }
      ]
    },
    {
      "cell_type": "code",
      "source": [
        "# Model.evaluate メソッドはモデルの性能を検査します。これには通常 \"検証用データセット\" または \"テストデータセット\" を用います。\n",
        "model.evaluate(x_test,  y_test, verbose=2)"
      ],
      "metadata": {
        "colab": {
          "base_uri": "https://localhost:8080/"
        },
        "id": "ArYJcg908a74",
        "outputId": "da8813ef-10ac-4e2c-a63a-42bf9066da3c"
      },
      "execution_count": 10,
      "outputs": [
        {
          "output_type": "stream",
          "name": "stdout",
          "text": [
            "313/313 - 1s - loss: 0.0721 - accuracy: 0.9770 - 517ms/epoch - 2ms/step\n"
          ]
        },
        {
          "output_type": "execute_result",
          "data": {
            "text/plain": [
              "[0.07205630838871002, 0.9769999980926514]"
            ]
          },
          "metadata": {},
          "execution_count": 10
        }
      ]
    },
    {
      "cell_type": "code",
      "source": [
        "# モデルが確率を返すようにしたい場合には、モデルをラップしてソフトマックス関数を適用してください\n",
        "probability_model = tf.keras.Sequential([\n",
        "  model,\n",
        "  tf.keras.layers.Softmax()\n",
        "])\n",
        "\n",
        "probability_model(x_test[:5])"
      ],
      "metadata": {
        "colab": {
          "base_uri": "https://localhost:8080/"
        },
        "id": "MIDdzDho8fue",
        "outputId": "d7b4a411-5c07-42e7-aad5-f75ec3c46013"
      },
      "execution_count": 11,
      "outputs": [
        {
          "output_type": "execute_result",
          "data": {
            "text/plain": [
              "<tf.Tensor: shape=(5, 10), dtype=float32, numpy=\n",
              "array([[8.1447901e-08, 8.0834850e-09, 4.1684784e-06, 1.2924064e-04,\n",
              "        6.0003646e-10, 2.3858037e-08, 3.4895906e-13, 9.9985790e-01,\n",
              "        8.8197589e-07, 7.7101413e-06],\n",
              "       [2.1427460e-09, 2.2427742e-03, 9.9775201e-01, 4.4592257e-06,\n",
              "        6.3546271e-13, 4.4286580e-07, 2.5862528e-09, 1.5716279e-12,\n",
              "        4.1195511e-07, 1.7575834e-12],\n",
              "       [1.1748323e-06, 9.9924052e-01, 1.8019653e-04, 1.1448031e-05,\n",
              "        4.4386466e-05, 2.3336493e-06, 1.5947158e-05, 2.7615472e-04,\n",
              "        2.2179312e-04, 6.1162459e-06],\n",
              "       [9.9994445e-01, 2.1998985e-09, 3.1806892e-05, 3.2927542e-08,\n",
              "        1.7852381e-07, 9.7813633e-08, 1.5887113e-05, 2.3406242e-06,\n",
              "        1.0423523e-09, 5.2067621e-06],\n",
              "       [7.7585741e-05, 5.8791564e-08, 5.0445724e-05, 9.7723705e-09,\n",
              "        9.9279881e-01, 2.3214669e-07, 2.0047943e-05, 1.8577024e-04,\n",
              "        6.4134196e-07, 6.8662995e-03]], dtype=float32)>"
            ]
          },
          "metadata": {},
          "execution_count": 11
        }
      ]
    },
    {
      "cell_type": "code",
      "source": [
        ""
      ],
      "metadata": {
        "id": "VH6RZcb98p3h"
      },
      "execution_count": null,
      "outputs": []
    }
  ]
}